{
 "cells": [
  {
   "cell_type": "markdown",
   "metadata": {},
   "source": [
    "# Q:1"
   ]
  },
  {
   "cell_type": "code",
   "execution_count": null,
   "metadata": {},
   "outputs": [],
   "source": [
    "number=int(input(\"Enter a Number : \"))\n",
    "i=1\n",
    "while(i<=number):\n",
    "    print(' '*(number-i)+\"*\"*i)\n",
    "    i+=1"
   ]
  },
  {
   "cell_type": "markdown",
   "metadata": {},
   "source": [
    "# Q:2"
   ]
  },
  {
   "cell_type": "code",
   "execution_count": null,
   "metadata": {},
   "outputs": [],
   "source": [
    "def Replace_Vowel(newx):\n",
    "    vowels=['a','e','o','i','u']\n",
    "    for i in newx:\n",
    "        if i in vowels:\n",
    "            newx=newx.replace(i,\" \")\n",
    "    return newx\n",
    "x=input(\"Enter any Word! : \")\n",
    "newx=x.lower()\n",
    "Replace_Vowel(newx)"
   ]
  },
  {
   "cell_type": "markdown",
   "metadata": {},
   "source": [
    "# Q:3"
   ]
  },
  {
   "cell_type": "code",
   "execution_count": null,
   "metadata": {},
   "outputs": [],
   "source": [
    "def Index(state,char):\n",
    "    position=[]\n",
    "    for i in range(len(state)):\n",
    "        if state[i]==char:\n",
    "            position.append(i)\n",
    "    return position\n",
    "statement=\"This is JavaScript\"\n",
    "Index(statement,\"i\")"
   ]
  },
  {
   "cell_type": "markdown",
   "metadata": {},
   "source": [
    "# Q:4"
   ]
  },
  {
   "cell_type": "code",
   "execution_count": null,
   "metadata": {},
   "outputs": [],
   "source": [
    "n=int(input(\"Enter a Number : \"))\n",
    "for i in range(n+1):\n",
    "    list=[]\n",
    "    for j in range(i+1):\n",
    "        list.append(i*j)\n",
    "    print(list)"
   ]
  },
  {
   "cell_type": "markdown",
   "metadata": {},
   "source": [
    "# Q:5"
   ]
  },
  {
   "cell_type": "code",
   "execution_count": null,
   "metadata": {},
   "outputs": [],
   "source": [
    "import webbrowser\n",
    "from random import choice"
   ]
  },
  {
   "cell_type": "code",
   "execution_count": null,
   "metadata": {},
   "outputs": [],
   "source": [
    "links=['https://www.google.com','https://www.youtube.com/results?search_query=elzero+web+school','https://www.w3schools.com/']"
   ]
  },
  {
   "cell_type": "code",
   "execution_count": null,
   "metadata": {},
   "outputs": [],
   "source": [
    "webbrowser.open(choice(links))"
   ]
  },
  {
   "cell_type": "markdown",
   "metadata": {},
   "source": [
    "# Q:6"
   ]
  },
  {
   "cell_type": "code",
   "execution_count": null,
   "metadata": {},
   "outputs": [],
   "source": [
    "def Add_Middle(s1,s2):\n",
    "    print(\"Strings Before Appending_Middle : \",s1,s2)\n",
    "    mid=int(len(s1)/2)\n",
    "    x=s1[:mid:]\n",
    "    x=x+s2\n",
    "    x=x+s1[mid:]\n",
    "    print(\"Strings After Appending_Middle : \",x)\n",
    "x=input(\"Enter any String\")\n",
    "y=input(\"Enter any String\")\n",
    "Add_Middle(x,y)"
   ]
  },
  {
   "cell_type": "markdown",
   "metadata": {},
   "source": [
    "# Q:7"
   ]
  },
  {
   "cell_type": "code",
   "execution_count": null,
   "metadata": {},
   "outputs": [],
   "source": [
    "def permutation(lst):\n",
    "    if len(lst) == 0:\n",
    "        return []\n",
    "    if len(lst) == 1:\n",
    "        return [lst]\n",
    "    l = []\n",
    "    for i in range(len(lst)):\n",
    "        m = lst[i]\n",
    "        remain_Lst = lst[:i] + lst[i+1:]\n",
    "        for p in permutation(remain_Lst):\n",
    "            l.append([m] + p)\n",
    "    return l\n",
    "data = list(input(\"Enter : \"))\n",
    "for p in permutation(data):\n",
    "    print(p)"
   ]
  },
  {
   "cell_type": "markdown",
   "metadata": {},
   "source": [
    "# Q:8"
   ]
  },
  {
   "cell_type": "code",
   "execution_count": null,
   "metadata": {},
   "outputs": [],
   "source": [
    "def Check(string):\n",
    "    words=string.split()\n",
    "    count_letter=0\n",
    "    count_numeric=0\n",
    "    count_symbol=0\n",
    "    for i in string:\n",
    "        if i.islower() or i.isupper():\n",
    "            count_letter+=1\n",
    "        elif i.isnumeric():\n",
    "            count_numeric+=1\n",
    "        else:\n",
    "            count_symbol+=1\n",
    "    print(\"Count OF Letters : \",count_letter)\n",
    "    print(\"Count OF Numbers : \",count_numeric)\n",
    "    print(\"Count OF Sumbols : \",count_symbol)\n",
    "str1 =input(\"Enter any string : \")\n",
    "Check(str1)"
   ]
  },
  {
   "cell_type": "markdown",
   "metadata": {},
   "source": [
    "# Q:9"
   ]
  },
  {
   "cell_type": "code",
   "execution_count": null,
   "metadata": {},
   "outputs": [],
   "source": [
    "def Balance(s1,s2):\n",
    "    count=0\n",
    "    for i in s1:\n",
    "        for j in s2:\n",
    "            if i in j:\n",
    "                count+=1\n",
    "    if count == len(s1):\n",
    "        print(\"True\")\n",
    "    else:\n",
    "        print(\"False\")\n",
    "s1 = input(\"Enter Any String : \")\n",
    "s2 = input(\"Enter Any String : \")\n",
    "Balance(s1,s2)"
   ]
  },
  {
   "cell_type": "markdown",
   "metadata": {},
   "source": [
    "# Q:10"
   ]
  },
  {
   "cell_type": "code",
   "execution_count": null,
   "metadata": {},
   "outputs": [],
   "source": [
    "import collections\n",
    "def Counter(string):\n",
    "    count = collections.Counter(string)\n",
    "    print(\"Count Occurrences Of All Characters IN This String : \\n\",count)\n",
    "string=input(\"Enter Any String : \")\n",
    "Counter(string)"
   ]
  },
  {
   "cell_type": "code",
   "execution_count": null,
   "metadata": {},
   "outputs": [],
   "source": []
  }
 ],
 "metadata": {
  "kernelspec": {
   "display_name": "Python 3",
   "language": "python",
   "name": "python3"
  },
  "language_info": {
   "codemirror_mode": {
    "name": "ipython",
    "version": 3
   },
   "file_extension": ".py",
   "mimetype": "text/x-python",
   "name": "python",
   "nbconvert_exporter": "python",
   "pygments_lexer": "ipython3",
   "version": "3.8.3"
  }
 },
 "nbformat": 4,
 "nbformat_minor": 4
}
